{
  "nbformat": 4,
  "nbformat_minor": 0,
  "metadata": {
    "colab": {
      "name": "Sdss.ipynb",
      "provenance": []
    },
    "kernelspec": {
      "name": "python3",
      "display_name": "Python 3"
    },
    "language_info": {
      "name": "python"
    }
  },
  "cells": [
    {
      "cell_type": "code",
      "execution_count": 2,
      "metadata": {
        "id": "7JTq1VuZcauR"
      },
      "outputs": [],
      "source": [
        "import jupyter"
      ]
    },
    {
      "cell_type": "code",
      "source": [
        "import pandas as pd \n",
        "import numpy as np\n",
        "import matplotlib.pyplot as plt\n",
        "%matplotlib inline\n",
        "df = pd.read_csv(\"Skyserver.csv\")\n",
        "df.head()"
      ],
      "metadata": {
        "colab": {
          "base_uri": "https://localhost:8080/",
          "height": 268
        },
        "id": "J5S8sehecjhv",
        "outputId": "8d6ce803-a97f-49af-8859-32067f6477da"
      },
      "execution_count": 3,
      "outputs": [
        {
          "output_type": "execute_result",
          "data": {
            "text/plain": [
              "                 objid          ra       dec         u         g         r  \\\n",
              "0  1237645879551066262  348.902530  1.271886  19.38905  18.24496  17.58728   \n",
              "1  1237645879578460255   51.443695  1.270073  19.52808  17.96541  17.03493   \n",
              "2  1237645879578460271   51.483584  1.272013  18.72268  17.38520  16.81134   \n",
              "3  1237645941291614227   49.627485 -1.041769  17.65612  16.17133  15.58940   \n",
              "4  1237645941824356443   40.285690 -0.714957  17.54884  15.75164  15.03100   \n",
              "\n",
              "          i         z  run  rerun  camcol  field            specobjid   class  \\\n",
              "0  17.20807  16.90905   94    301       6     94   430194949951088640  GALAXY   \n",
              "1  16.53754  16.14154   94    301       6    512   466235292731336704  GALAXY   \n",
              "2  16.51803  16.29502   94    301       6    512   466232818830174208  GALAXY   \n",
              "3  15.37850  15.26744  109    301       1    100  1705795582662043648    STAR   \n",
              "4  14.66728  14.36099  109    301       2     37   459394680333821952  GALAXY   \n",
              "\n",
              "   redshift  plate    mjd  fiberid  \n",
              "0  0.032125    382  51816      368  \n",
              "1  0.121315    414  51869      410  \n",
              "2  0.048765    414  51869      401  \n",
              "3 -0.000098   1515  52932      208  \n",
              "4  0.040287    408  51821      100  "
            ],
            "text/html": [
              "\n",
              "  <div id=\"df-2d406f5b-bf4f-427e-b3fd-f868eaefae05\">\n",
              "    <div class=\"colab-df-container\">\n",
              "      <div>\n",
              "<style scoped>\n",
              "    .dataframe tbody tr th:only-of-type {\n",
              "        vertical-align: middle;\n",
              "    }\n",
              "\n",
              "    .dataframe tbody tr th {\n",
              "        vertical-align: top;\n",
              "    }\n",
              "\n",
              "    .dataframe thead th {\n",
              "        text-align: right;\n",
              "    }\n",
              "</style>\n",
              "<table border=\"1\" class=\"dataframe\">\n",
              "  <thead>\n",
              "    <tr style=\"text-align: right;\">\n",
              "      <th></th>\n",
              "      <th>objid</th>\n",
              "      <th>ra</th>\n",
              "      <th>dec</th>\n",
              "      <th>u</th>\n",
              "      <th>g</th>\n",
              "      <th>r</th>\n",
              "      <th>i</th>\n",
              "      <th>z</th>\n",
              "      <th>run</th>\n",
              "      <th>rerun</th>\n",
              "      <th>camcol</th>\n",
              "      <th>field</th>\n",
              "      <th>specobjid</th>\n",
              "      <th>class</th>\n",
              "      <th>redshift</th>\n",
              "      <th>plate</th>\n",
              "      <th>mjd</th>\n",
              "      <th>fiberid</th>\n",
              "    </tr>\n",
              "  </thead>\n",
              "  <tbody>\n",
              "    <tr>\n",
              "      <th>0</th>\n",
              "      <td>1237645879551066262</td>\n",
              "      <td>348.902530</td>\n",
              "      <td>1.271886</td>\n",
              "      <td>19.38905</td>\n",
              "      <td>18.24496</td>\n",
              "      <td>17.58728</td>\n",
              "      <td>17.20807</td>\n",
              "      <td>16.90905</td>\n",
              "      <td>94</td>\n",
              "      <td>301</td>\n",
              "      <td>6</td>\n",
              "      <td>94</td>\n",
              "      <td>430194949951088640</td>\n",
              "      <td>GALAXY</td>\n",
              "      <td>0.032125</td>\n",
              "      <td>382</td>\n",
              "      <td>51816</td>\n",
              "      <td>368</td>\n",
              "    </tr>\n",
              "    <tr>\n",
              "      <th>1</th>\n",
              "      <td>1237645879578460255</td>\n",
              "      <td>51.443695</td>\n",
              "      <td>1.270073</td>\n",
              "      <td>19.52808</td>\n",
              "      <td>17.96541</td>\n",
              "      <td>17.03493</td>\n",
              "      <td>16.53754</td>\n",
              "      <td>16.14154</td>\n",
              "      <td>94</td>\n",
              "      <td>301</td>\n",
              "      <td>6</td>\n",
              "      <td>512</td>\n",
              "      <td>466235292731336704</td>\n",
              "      <td>GALAXY</td>\n",
              "      <td>0.121315</td>\n",
              "      <td>414</td>\n",
              "      <td>51869</td>\n",
              "      <td>410</td>\n",
              "    </tr>\n",
              "    <tr>\n",
              "      <th>2</th>\n",
              "      <td>1237645879578460271</td>\n",
              "      <td>51.483584</td>\n",
              "      <td>1.272013</td>\n",
              "      <td>18.72268</td>\n",
              "      <td>17.38520</td>\n",
              "      <td>16.81134</td>\n",
              "      <td>16.51803</td>\n",
              "      <td>16.29502</td>\n",
              "      <td>94</td>\n",
              "      <td>301</td>\n",
              "      <td>6</td>\n",
              "      <td>512</td>\n",
              "      <td>466232818830174208</td>\n",
              "      <td>GALAXY</td>\n",
              "      <td>0.048765</td>\n",
              "      <td>414</td>\n",
              "      <td>51869</td>\n",
              "      <td>401</td>\n",
              "    </tr>\n",
              "    <tr>\n",
              "      <th>3</th>\n",
              "      <td>1237645941291614227</td>\n",
              "      <td>49.627485</td>\n",
              "      <td>-1.041769</td>\n",
              "      <td>17.65612</td>\n",
              "      <td>16.17133</td>\n",
              "      <td>15.58940</td>\n",
              "      <td>15.37850</td>\n",
              "      <td>15.26744</td>\n",
              "      <td>109</td>\n",
              "      <td>301</td>\n",
              "      <td>1</td>\n",
              "      <td>100</td>\n",
              "      <td>1705795582662043648</td>\n",
              "      <td>STAR</td>\n",
              "      <td>-0.000098</td>\n",
              "      <td>1515</td>\n",
              "      <td>52932</td>\n",
              "      <td>208</td>\n",
              "    </tr>\n",
              "    <tr>\n",
              "      <th>4</th>\n",
              "      <td>1237645941824356443</td>\n",
              "      <td>40.285690</td>\n",
              "      <td>-0.714957</td>\n",
              "      <td>17.54884</td>\n",
              "      <td>15.75164</td>\n",
              "      <td>15.03100</td>\n",
              "      <td>14.66728</td>\n",
              "      <td>14.36099</td>\n",
              "      <td>109</td>\n",
              "      <td>301</td>\n",
              "      <td>2</td>\n",
              "      <td>37</td>\n",
              "      <td>459394680333821952</td>\n",
              "      <td>GALAXY</td>\n",
              "      <td>0.040287</td>\n",
              "      <td>408</td>\n",
              "      <td>51821</td>\n",
              "      <td>100</td>\n",
              "    </tr>\n",
              "  </tbody>\n",
              "</table>\n",
              "</div>\n",
              "      <button class=\"colab-df-convert\" onclick=\"convertToInteractive('df-2d406f5b-bf4f-427e-b3fd-f868eaefae05')\"\n",
              "              title=\"Convert this dataframe to an interactive table.\"\n",
              "              style=\"display:none;\">\n",
              "        \n",
              "  <svg xmlns=\"http://www.w3.org/2000/svg\" height=\"24px\"viewBox=\"0 0 24 24\"\n",
              "       width=\"24px\">\n",
              "    <path d=\"M0 0h24v24H0V0z\" fill=\"none\"/>\n",
              "    <path d=\"M18.56 5.44l.94 2.06.94-2.06 2.06-.94-2.06-.94-.94-2.06-.94 2.06-2.06.94zm-11 1L8.5 8.5l.94-2.06 2.06-.94-2.06-.94L8.5 2.5l-.94 2.06-2.06.94zm10 10l.94 2.06.94-2.06 2.06-.94-2.06-.94-.94-2.06-.94 2.06-2.06.94z\"/><path d=\"M17.41 7.96l-1.37-1.37c-.4-.4-.92-.59-1.43-.59-.52 0-1.04.2-1.43.59L10.3 9.45l-7.72 7.72c-.78.78-.78 2.05 0 2.83L4 21.41c.39.39.9.59 1.41.59.51 0 1.02-.2 1.41-.59l7.78-7.78 2.81-2.81c.8-.78.8-2.07 0-2.86zM5.41 20L4 18.59l7.72-7.72 1.47 1.35L5.41 20z\"/>\n",
              "  </svg>\n",
              "      </button>\n",
              "      \n",
              "  <style>\n",
              "    .colab-df-container {\n",
              "      display:flex;\n",
              "      flex-wrap:wrap;\n",
              "      gap: 12px;\n",
              "    }\n",
              "\n",
              "    .colab-df-convert {\n",
              "      background-color: #E8F0FE;\n",
              "      border: none;\n",
              "      border-radius: 50%;\n",
              "      cursor: pointer;\n",
              "      display: none;\n",
              "      fill: #1967D2;\n",
              "      height: 32px;\n",
              "      padding: 0 0 0 0;\n",
              "      width: 32px;\n",
              "    }\n",
              "\n",
              "    .colab-df-convert:hover {\n",
              "      background-color: #E2EBFA;\n",
              "      box-shadow: 0px 1px 2px rgba(60, 64, 67, 0.3), 0px 1px 3px 1px rgba(60, 64, 67, 0.15);\n",
              "      fill: #174EA6;\n",
              "    }\n",
              "\n",
              "    [theme=dark] .colab-df-convert {\n",
              "      background-color: #3B4455;\n",
              "      fill: #D2E3FC;\n",
              "    }\n",
              "\n",
              "    [theme=dark] .colab-df-convert:hover {\n",
              "      background-color: #434B5C;\n",
              "      box-shadow: 0px 1px 3px 1px rgba(0, 0, 0, 0.15);\n",
              "      filter: drop-shadow(0px 1px 2px rgba(0, 0, 0, 0.3));\n",
              "      fill: #FFFFFF;\n",
              "    }\n",
              "  </style>\n",
              "\n",
              "      <script>\n",
              "        const buttonEl =\n",
              "          document.querySelector('#df-2d406f5b-bf4f-427e-b3fd-f868eaefae05 button.colab-df-convert');\n",
              "        buttonEl.style.display =\n",
              "          google.colab.kernel.accessAllowed ? 'block' : 'none';\n",
              "\n",
              "        async function convertToInteractive(key) {\n",
              "          const element = document.querySelector('#df-2d406f5b-bf4f-427e-b3fd-f868eaefae05');\n",
              "          const dataTable =\n",
              "            await google.colab.kernel.invokeFunction('convertToInteractive',\n",
              "                                                     [key], {});\n",
              "          if (!dataTable) return;\n",
              "\n",
              "          const docLinkHtml = 'Like what you see? Visit the ' +\n",
              "            '<a target=\"_blank\" href=https://colab.research.google.com/notebooks/data_table.ipynb>data table notebook</a>'\n",
              "            + ' to learn more about interactive tables.';\n",
              "          element.innerHTML = '';\n",
              "          dataTable['output_type'] = 'display_data';\n",
              "          await google.colab.output.renderOutput(dataTable, element);\n",
              "          const docLink = document.createElement('div');\n",
              "          docLink.innerHTML = docLinkHtml;\n",
              "          element.appendChild(docLink);\n",
              "        }\n",
              "      </script>\n",
              "    </div>\n",
              "  </div>\n",
              "  "
            ]
          },
          "metadata": {},
          "execution_count": 3
        }
      ]
    },
    {
      "cell_type": "code",
      "source": [
        "df['class']"
      ],
      "metadata": {
        "colab": {
          "base_uri": "https://localhost:8080/"
        },
        "id": "DdCPbokfhWT7",
        "outputId": "faeac874-3a26-470f-dc33-3a5dbac7c62a"
      },
      "execution_count": 4,
      "outputs": [
        {
          "output_type": "execute_result",
          "data": {
            "text/plain": [
              "0     GALAXY\n",
              "1     GALAXY\n",
              "2     GALAXY\n",
              "3       STAR\n",
              "4     GALAXY\n",
              "       ...  \n",
              "95      STAR\n",
              "96      STAR\n",
              "97      STAR\n",
              "98      STAR\n",
              "99      STAR\n",
              "Name: class, Length: 100, dtype: object"
            ]
          },
          "metadata": {},
          "execution_count": 4
        }
      ]
    },
    {
      "cell_type": "code",
      "source": [
        "frame  = df[['u', 'i', 'r', 'g', 'z']]\n",
        "X = frame\n",
        "y = df['class']"
      ],
      "metadata": {
        "id": "yvHywSuafE5D"
      },
      "execution_count": 5,
      "outputs": []
    },
    {
      "cell_type": "code",
      "source": [
        "from sklearn.model_selection import train_test_split\n",
        "X_train,X_test,y_train,y_test = train_test_split(X, y, test_size = 0.2, random_state = 1)"
      ],
      "metadata": {
        "id": "JtW3U9t8hncK"
      },
      "execution_count": 6,
      "outputs": []
    },
    {
      "cell_type": "code",
      "source": [
        "from sklearn.neighbors import KNeighborsClassifier\n",
        "knn = KNeighborsClassifier(n_neighbors= 5)\n",
        "knn.fit(X_train, y_train)"
      ],
      "metadata": {
        "colab": {
          "base_uri": "https://localhost:8080/"
        },
        "id": "Gwq901xEh7C6",
        "outputId": "b7aea797-2a26-4421-d42f-44f09ee0d969"
      },
      "execution_count": 7,
      "outputs": [
        {
          "output_type": "execute_result",
          "data": {
            "text/plain": [
              "KNeighborsClassifier()"
            ]
          },
          "metadata": {},
          "execution_count": 7
        }
      ]
    },
    {
      "cell_type": "code",
      "source": [
        "len(X_train)"
      ],
      "metadata": {
        "colab": {
          "base_uri": "https://localhost:8080/"
        },
        "id": "uAT133Iakkpx",
        "outputId": "a5116e0f-210f-4cdb-c948-767153434e14"
      },
      "execution_count": 8,
      "outputs": [
        {
          "output_type": "execute_result",
          "data": {
            "text/plain": [
              "80"
            ]
          },
          "metadata": {},
          "execution_count": 8
        }
      ]
    },
    {
      "cell_type": "code",
      "source": [
        "knn.score(X_test, y_test)"
      ],
      "metadata": {
        "colab": {
          "base_uri": "https://localhost:8080/"
        },
        "id": "RcKjz7P3iO6y",
        "outputId": "cb5d4a8f-053e-42a1-c21d-493ee97eb69f"
      },
      "execution_count": 9,
      "outputs": [
        {
          "output_type": "execute_result",
          "data": {
            "text/plain": [
              "0.8"
            ]
          },
          "metadata": {},
          "execution_count": 9
        }
      ]
    },
    {
      "cell_type": "code",
      "source": [
        "from sklearn.metrics import confusion_matrix\n",
        "y_pred = knn.predict(X_test)\n",
        "cm = confusion_matrix(y_test, y_pred)\n",
        "cm"
      ],
      "metadata": {
        "colab": {
          "base_uri": "https://localhost:8080/"
        },
        "id": "k1WoP8tWiWN3",
        "outputId": "d084c948-5d29-4f92-b178-5336625fb7fd"
      },
      "execution_count": 10,
      "outputs": [
        {
          "output_type": "execute_result",
          "data": {
            "text/plain": [
              "array([[ 1,  3],\n",
              "       [ 1, 15]])"
            ]
          },
          "metadata": {},
          "execution_count": 10
        }
      ]
    },
    {
      "cell_type": "code",
      "source": [
        "import seaborn as sn\n",
        "plt.figure(figsize=(7,5))\n",
        "sn.heatmap(cm, annot= True)\n",
        "plt.xlabel(\"Predicted\")\n",
        "plt.ylabel(\"Truth\")"
      ],
      "metadata": {
        "colab": {
          "base_uri": "https://localhost:8080/",
          "height": 351
        },
        "id": "7AiRna_zm4Hl",
        "outputId": "e6790223-a729-4173-e7b5-14fe277f0827"
      },
      "execution_count": 11,
      "outputs": [
        {
          "output_type": "execute_result",
          "data": {
            "text/plain": [
              "Text(42.0, 0.5, 'Truth')"
            ]
          },
          "metadata": {},
          "execution_count": 11
        },
        {
          "output_type": "display_data",
          "data": {
            "text/plain": [
              "<Figure size 504x360 with 2 Axes>"
            ],
            "image/png": "[encoded data removed]"
          },
          "metadata": {
            "needs_background": "light"
          }
        }
      ]
    },
    {
      "cell_type": "code",
      "source": [
        "from sklearn.metrics import classification_report\n",
        "print(classification_report(y_test, y_pred))"
      ],
      "metadata": {
        "colab": {
          "base_uri": "https://localhost:8080/"
        },
        "id": "Dph1a5WNnYrJ",
        "outputId": "59221967-77f3-45c4-a3e7-b9743b3cc868"
      },
      "execution_count": 12,
      "outputs": [
        {
          "output_type": "stream",
          "name": "stdout",
          "text": [
            "              precision    recall  f1-score   support\n",
            "\n",
            "      GALAXY       0.50      0.25      0.33         4\n",
            "        STAR       0.83      0.94      0.88        16\n",
            "\n",
            "    accuracy                           0.80        20\n",
            "   macro avg       0.67      0.59      0.61        20\n",
            "weighted avg       0.77      0.80      0.77        20\n",
            "\n"
          ]
        }
      ]
    }
  ]
}